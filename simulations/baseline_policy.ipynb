{
 "cells": [
  {
   "cell_type": "code",
   "execution_count": 73,
   "metadata": {},
   "outputs": [],
   "source": [
    "# import required modules\n",
    "import os\n",
    "import sys\n",
    "module_path = os.path.abspath(os.path.join('..'))\n",
    "if module_path not in sys.path:\n",
    "    sys.path.append(module_path)\n",
    "from infrasim.component import Component\n",
    "import pandas as pd\n",
    "import numpy as np"
   ]
  },
  {
   "cell_type": "code",
   "execution_count": 74,
   "metadata": {},
   "outputs": [],
   "source": [
    "# load component data\n",
    "gen_admin_params = pd.read_csv('selected_15_components_data.csv')\n",
    "\n",
    "component_ids = list(gen_admin_params['component_id'])\n",
    "dynamics_shapes = list(gen_admin_params['shape'])\n",
    "dynamics_scales = list(gen_admin_params['scale'])\n",
    "inspection_costs = list(gen_admin_params['inspection_cost'])\n",
    "replacement_costs = list(gen_admin_params['replacement_cost'])"
   ]
  },
  {
   "cell_type": "code",
   "execution_count": 75,
   "metadata": {},
   "outputs": [],
   "source": [
    "def run_simulations(component, budget, num_trials, inspect_interval, replace_failure_threshold, visualize=False):\n",
    "\n",
    "    # run a policy on the component with baseline strategy\n",
    "    inspect_interval = inspect_interval\n",
    "    replace_failure_threshold = replace_failure_threshold\n",
    "    survive_probs = []\n",
    "\n",
    "    for trial in range(num_trials):\n",
    "        budget_remaining = budget\n",
    "        component.reset()\n",
    "        num_steps = 0\n",
    "        last_known_state = 101\n",
    "        num_survive_steps = 0\n",
    "\n",
    "        while budget_remaining > 0 and num_steps < 100:\n",
    "\n",
    "            if component.current_state > 0:\n",
    "                num_survive_steps += 1\n",
    "\n",
    "            # actions for baseline\n",
    "            if num_steps % inspect_interval == 0:\n",
    "                component.update(action=1)\n",
    "                budget_remaining -= component.inspect_cost\n",
    "                last_known_state = component.current_state\n",
    "            elif component.get_failure_probability(last_known_state) >= replace_failure_threshold and budget_remaining >= component.replace_cost:\n",
    "                component.update(action=2)\n",
    "                budget_remaining -= component.replace_cost\n",
    "                last_known_state = component.current_state\n",
    "            else:\n",
    "                component.update(action=0)\n",
    "            num_steps += 1\n",
    "        \n",
    "        if visualize == True:\n",
    "            component.visualize_history()\n",
    "            print(f\"Remaining budget: {budget_remaining}\")\n",
    "        survive_probs.append(num_survive_steps/100.0)\n",
    "\n",
    "    return np.mean(survive_probs), np.std(survive_probs)"
   ]
  },
  {
   "cell_type": "code",
   "execution_count": 77,
   "metadata": {},
   "outputs": [],
   "source": [
    "# run simulations with components\n",
    "\n",
    "survival_means = np.zeros((len(component_ids),51))\n",
    "survival_stds = np.zeros((len(component_ids),51))\n",
    "budgets = np.arange(0,1001,20)\n",
    "inspect_interval = 3\n",
    "num_trials = 5\n",
    "replace_failure_threshold = 0.5\n",
    "\n",
    "for i in range(len(component_ids)):\n",
    "\n",
    "    component =  Component(name=f'{component_ids[i]}', inspect_cost=inspection_costs[i], replace_cost=replacement_costs[i], dynamics_scale=dynamics_scales[i], dynamics_shape=dynamics_shapes[i])\n",
    "    for j in range(len(budgets)):\n",
    "        \n",
    "        probs_mean, probs_std =  run_simulations(component, budgets[j], num_trials=num_trials, inspect_interval=inspect_interval, replace_failure_threshold=replace_failure_threshold)\n",
    "        survival_means[i,j] = probs_mean\n",
    "        survival_stds[i,j] = probs_std\n"
   ]
  },
  {
   "cell_type": "code",
   "execution_count": 78,
   "metadata": {},
   "outputs": [],
   "source": [
    "np.save('./results/baseline_survival_means.npy', survival_means)\n",
    "np.save('./results/baseline_survival_stds.npy', survival_stds)"
   ]
  },
  {
   "cell_type": "code",
   "execution_count": null,
   "metadata": {},
   "outputs": [],
   "source": [
    "# testing for a single component and budget\n",
    "\n",
    "# run a policy on the component with baseline strategy\n",
    "inspect_interval = 3\n",
    "replace_failure_threshold = 0.5\n",
    "survive_probs = []\n",
    "\n",
    "budget_remaining = 1000.0\n",
    "num_steps = 0\n",
    "last_known_state = 100\n",
    "num_survive_steps = 0\n",
    "\n",
    "i = 12\n",
    "component =  Component(name='test', inspect_cost=2, replace_cost=60, dynamics_scale=10, dynamics_shape=5)\n",
    "component.reset()\n",
    "\n",
    "while budget_remaining > 0 and num_steps < 100:\n",
    "\n",
    "    if component.current_state > 0:\n",
    "        num_survive_steps += 1\n",
    "\n",
    "    # inspection\n",
    "    if num_steps % inspect_interval == 0:\n",
    "        component.update(action=1)\n",
    "        budget_remaining -= component.inspect_cost\n",
    "        last_known_state = component.current_state\n",
    "    elif component.get_failure_probability(last_known_state) >= replace_failure_threshold and budget_remaining >= component.replace_cost:\n",
    "        component.update(action=2)\n",
    "        budget_remaining -= component.replace_cost\n",
    "        last_known_state = component.current_state\n",
    "    else:\n",
    "        component.update(action=0)\n",
    "\n",
    "    num_steps += 1"
   ]
  },
  {
   "cell_type": "code",
   "execution_count": null,
   "metadata": {},
   "outputs": [],
   "source": []
  }
 ],
 "metadata": {
  "kernelspec": {
   "display_name": "Python 3",
   "language": "python",
   "name": "python3"
  },
  "language_info": {
   "codemirror_mode": {
    "name": "ipython",
    "version": 3
   },
   "file_extension": ".py",
   "mimetype": "text/x-python",
   "name": "python",
   "nbconvert_exporter": "python",
   "pygments_lexer": "ipython3",
   "version": "3.8.5"
  },
  "orig_nbformat": 4,
  "vscode": {
   "interpreter": {
    "hash": "93cf1c63fbb45b79bb4aa67d3c0b0dec27cfa66c0174870efba95051dedf4157"
   }
  }
 },
 "nbformat": 4,
 "nbformat_minor": 2
}
