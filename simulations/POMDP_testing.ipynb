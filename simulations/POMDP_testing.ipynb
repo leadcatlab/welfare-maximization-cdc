{
 "cells": [
  {
   "cell_type": "code",
   "execution_count": 1,
   "id": "3c27e641",
   "metadata": {},
   "outputs": [
    {
     "data": {
      "text/plain": [
       "1"
      ]
     },
     "metadata": {},
     "output_type": "display_data"
    }
   ],
   "source": [
    "Threads.nthreads()"
   ]
  },
  {
   "cell_type": "code",
   "execution_count": 2,
   "id": "cdeba1b9",
   "metadata": {},
   "outputs": [],
   "source": [
    "using POMDPs, QuickPOMDPs, POMDPModelTools, POMDPSimulators, POMDPTools, POMDPPolicies, ParticleFilters, DiscreteValueIteration"
   ]
  },
  {
   "cell_type": "code",
   "execution_count": 3,
   "id": "6bb2d682",
   "metadata": {},
   "outputs": [],
   "source": [
    "using Statistics, Plots, CSV, DataFrames, JLD2"
   ]
  },
  {
   "cell_type": "code",
   "execution_count": 4,
   "id": "0b8ca664",
   "metadata": {},
   "outputs": [],
   "source": [
    "using D3Trees, Random"
   ]
  },
  {
   "cell_type": "code",
   "execution_count": 5,
   "id": "74c0e202",
   "metadata": {},
   "outputs": [
    {
     "name": "stderr",
     "output_type": "stream",
     "text": [
      "┌ Warning: POMDPs.@implemented is deprecated, use POMDPLinter.@implemented instead.\n",
      "└ @ POMDPs /home/pranay/.julia/packages/POMDPs/XBTe5/src/deprecated.jl:10\n"
     ]
    },
    {
     "data": {
      "text/plain": [
       "Main.BasicPOMCP"
      ]
     },
     "metadata": {},
     "output_type": "display_data"
    }
   ],
   "source": [
    "include(\"temps/BasicPOMCP_2.jl\")"
   ]
  },
  {
   "cell_type": "code",
   "execution_count": 21,
   "id": "d98dd451",
   "metadata": {},
   "outputs": [
    {
     "name": "stdout",
     "output_type": "stream",
     "text": [
      "Opening in existing browser session.\n"
     ]
    },
    {
     "data": {
      "text/plain": [
       "Process(`\u001b[4mgoogle-chrome\u001b[24m \u001b[4m/tmp/jl_OiwXZv/tree.html\u001b[24m`, ProcessExited(0))"
      ]
     },
     "metadata": {},
     "output_type": "display_data"
    }
   ],
   "source": [
    "component_id = \"5\";\n",
    "replacement_cost = 60.0;\n",
    "inspection_cost = 1.0;\n",
    "horizon = 100;\n",
    "\n",
    "dynamics = []\n",
    "open(\"dynamics/dynamics_\"*component_id*\".csv\") do f\n",
    "    line = 0  \n",
    "    while ! eof(f) \n",
    "        # read a new / next line for every iteration          \n",
    "        s = readline(f)\n",
    "        s = parse.(Float64, split(chop(s; head=1, tail=1), ','))\n",
    "        push!(dynamics,s)\n",
    "        line += 1\n",
    "    end\n",
    "end\n",
    "\n",
    "budget = 500.0\n",
    "buildingprob = QuickPOMDP(\n",
    "        actions = [\"do-nothing\", \"inspect\", \"maintain\"], \n",
    "        obstype = Tuple{Int64, Int64},\n",
    "        discount = 1.0,\n",
    "\n",
    "        transition = function(s,a)\n",
    "            next_states_inspect = []\n",
    "            next_states_nothing = []\n",
    "            for i in 0:s[1]\n",
    "                push!(next_states_inspect, (i,s[2]+inspection_cost))\n",
    "                push!(next_states_nothing, (i,s[2]))\n",
    "            end\n",
    "            if a == \"maintain\"\n",
    "                return Deterministic((100, s[2] + replacement_cost))\n",
    "            elseif a == \"inspect\"\n",
    "                return SparseCat(next_states_inspect, dynamics[s[1]+1])\n",
    "            elseif a == \"do-nothing\"\n",
    "                return SparseCat(next_states_nothing, dynamics[s[1]+1])\n",
    "            end\n",
    "        end,\n",
    "\n",
    "        observation = function(s,a,sp)\n",
    "            if a == \"inspect\"\n",
    "                return Deterministic(sp)\n",
    "            elseif a == \"maintain\"\n",
    "                return Deterministic(sp)\n",
    "            elseif a == \"do-nothing\"\n",
    "                return Deterministic((101, sp[2]))\n",
    "            end\n",
    "        end,\n",
    "\n",
    "        reward = function(s,a,sp)\n",
    "            if sp[1] > 0\n",
    "                return 1\n",
    "            else\n",
    "                return -1\n",
    "            end\n",
    "        end,\n",
    "        isterminal = function(s)\n",
    "            if s[2] + replacement_cost > budget\n",
    "                return true\n",
    "            else\n",
    "                return false\n",
    "            end\n",
    "        end,\n",
    "        initialstate = Deterministic((100, 0)))\n",
    "\n",
    "\n",
    "solver_q = BasicPOMCP.POMCPSolver(max_depth=20, tree_queries=2000, c=10, tree_in_info = true);\n",
    "planner_q = solve(solver_q, buildingprob);\n",
    "\n",
    "a, info = action_info(planner_q, initialstate(buildingprob), tree_in_info=true)\n",
    "inchrome(D3Tree(info[:tree], init_expand=2))\n",
    "\n",
    "#for (s, a, o, r, b) in stepthrough(buildingprob, planner_q, \"s,a,o,r,b\", max_steps = horizon)\n",
    "\n",
    "    # print state, action, observation, reward, and belief info clearly\n",
    "    # println(\"State: \", s)\n",
    "    # println(\"Action: \", a)\n",
    "    # println(\"Observation: \", o)\n",
    "    # println(\"Reward: \", r)\n",
    "    # println(\"Belief: \", b.particles[1][2])\n",
    "    # println(\"\")\n",
    "\n"
   ]
  },
  {
   "cell_type": "code",
   "execution_count": null,
   "id": "23444ef0",
   "metadata": {},
   "outputs": [],
   "source": []
  }
 ],
 "metadata": {
  "kernelspec": {
   "display_name": "Julia 1.8.5",
   "language": "julia",
   "name": "julia-1.8"
  },
  "language_info": {
   "file_extension": ".jl",
   "mimetype": "application/julia",
   "name": "julia",
   "version": "1.8.5"
  },
  "vscode": {
   "interpreter": {
    "hash": "93cf1c63fbb45b79bb4aa67d3c0b0dec27cfa66c0174870efba95051dedf4157"
   }
  }
 },
 "nbformat": 4,
 "nbformat_minor": 5
}
