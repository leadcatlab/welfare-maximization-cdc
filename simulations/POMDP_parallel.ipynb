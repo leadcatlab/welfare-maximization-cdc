{
 "cells": [
  {
   "cell_type": "code",
   "execution_count": 1,
   "id": "3c27e641",
   "metadata": {},
   "outputs": [
    {
     "data": {
      "text/plain": [
       "5"
      ]
     },
     "execution_count": 1,
     "metadata": {},
     "output_type": "execute_result"
    }
   ],
   "source": [
    "Threads.nthreads()"
   ]
  },
  {
   "cell_type": "code",
   "execution_count": 3,
   "id": "cdeba1b9",
   "metadata": {},
   "outputs": [],
   "source": [
    "using POMDPs, QuickPOMDPs, POMDPModelTools, POMDPSimulators, POMDPTools, POMDPPolicies, ParticleFilters, DiscreteValueIteration, Plots"
   ]
  },
  {
   "cell_type": "code",
   "execution_count": 13,
   "id": "6bb2d682",
   "metadata": {},
   "outputs": [],
   "source": [
    "using Statistics, Plots, CSV, DataFrames, JLD"
   ]
  },
  {
   "cell_type": "code",
   "execution_count": 11,
   "id": "74c0e202",
   "metadata": {},
   "outputs": [
    {
     "name": "stderr",
     "output_type": "stream",
     "text": [
      "WARNING: replacing module BasicPOMCP.\n",
      "\u001b[33m\u001b[1m┌ \u001b[22m\u001b[39m\u001b[33m\u001b[1mWarning: \u001b[22m\u001b[39mPOMDPs.@implemented is deprecated, use POMDPLinter.@implemented instead.\n",
      "\u001b[33m\u001b[1m└ \u001b[22m\u001b[39m\u001b[90m@ POMDPs C:\\Users\\pranayt2\\.julia\\packages\\POMDPs\\XBTe5\\src\\deprecated.jl:10\u001b[39m\n"
     ]
    },
    {
     "data": {
      "text/plain": [
       "Main.BasicPOMCP"
      ]
     },
     "execution_count": 11,
     "metadata": {},
     "output_type": "execute_result"
    }
   ],
   "source": [
    "include(\"temps/BasicPOMCP_2.jl\")"
   ]
  },
  {
   "cell_type": "code",
   "execution_count": 8,
   "id": "9babdd96",
   "metadata": {},
   "outputs": [
    {
     "data": {
      "text/plain": [
       "build_pomdp (generic function with 1 method)"
      ]
     },
     "execution_count": 8,
     "metadata": {},
     "output_type": "execute_result"
    }
   ],
   "source": [
    "function build_pomdp(component_id, replacement_cost, inspection_cost)\n",
    "    num_trials = 5;\n",
    "    num_budgets = 50;\n",
    "    horizon = 100;\n",
    "\n",
    "    # num_components x num_budgets x num_trials x horizon sized array for each logging element\n",
    "    state_histories = Array{Tuple{Int64,Int64},3}(undef, num_budgets+1, num_trials, horizon);\n",
    "    action_histories = Array{String,3}(undef, num_budgets+1, num_trials, horizon);\n",
    "    observation_histories = Array{Tuple{Int64,Int64},3}(undef, num_budgets+1, num_trials, horizon);\n",
    "    reward_histories = Array{Float64,3}(undef, num_budgets+1, num_trials, horizon);\n",
    "    survive_data = Array{Float64,2}(undef, num_budgets+1, num_trials);\n",
    "\n",
    "    # println(\"Running simulation for component = \"*component_id)\n",
    "    dynamics = []\n",
    "    open(\"dynamics/dynamics_\"*component_id*\".csv\") do f\n",
    "        # println(\"hi\")\n",
    "        line = 0  \n",
    "        while ! eof(f) \n",
    "            # read a new / next line for every iteration          \n",
    "            s = readline(f)\n",
    "            s = parse.(Float64, split(chop(s; head=1, tail=1), ','))\n",
    "            push!(dynamics,s)\n",
    "            line += 1\n",
    "        end\n",
    "    end\n",
    "\n",
    "    budgets = 0:1000/num_budgets:1000\n",
    "\n",
    "    for budget in 1:num_budgets+1\n",
    "        buildingprob = QuickPOMDP(\n",
    "                actions = [\"do-nothing\", \"inspect\", \"maintain\"], \n",
    "                obstype = Tuple{Int64, Int64},\n",
    "                discount = 0.95,\n",
    "\n",
    "                transition = function(s,a)\n",
    "                    next_states_inspect = []\n",
    "                    next_states_nothing = []\n",
    "                    for i in 0:s[1]\n",
    "                        push!(next_states_inspect, (i,s[2]+inspection_cost))\n",
    "                        push!(next_states_nothing, (i,s[2]))\n",
    "                    end\n",
    "                    if a == \"maintain\"\n",
    "                        return Deterministic((100, s[2] + replacement_cost))\n",
    "                    elseif a == \"inspect\"\n",
    "                        return SparseCat(next_states_inspect, dynamics[s[1]+1])\n",
    "                    elseif a == \"do-nothing\"\n",
    "                        return SparseCat(next_states_nothing, dynamics[s[1]+1])\n",
    "                    end\n",
    "                end,\n",
    "\n",
    "                observation = function(s,a,sp)\n",
    "                    if a == \"inspect\"\n",
    "                        return Deterministic(sp)\n",
    "                    elseif a == \"maintain\"\n",
    "                        return Deterministic(sp)\n",
    "                    elseif a == \"do-nothing\"\n",
    "                        return Deterministic((101, sp[2]))\n",
    "                    end\n",
    "                end,\n",
    "\n",
    "                reward = function(s,a,sp)\n",
    "                    if sp[2] > budgets[budget]\n",
    "                        return -100\n",
    "                    else\n",
    "                        if sp[1] == 0\n",
    "                            return -10\n",
    "                        elseif sp[1] > 0\n",
    "                            return 1\n",
    "                        end\n",
    "                    end\n",
    "                end,\n",
    "\n",
    "                initialstate = Deterministic((100, 0)))\n",
    "        solver_q = BasicPOMCP.POMCPSolver(c=10.0);\n",
    "        planner_q = solve(solver_q, buildingprob);\n",
    "\n",
    "        for trial in 1:num_trials\n",
    "            survive = 0;\n",
    "            actions_taken = Vector{String}()\n",
    "            count = 1\n",
    "            for (s, a, o, r) in stepthrough(buildingprob, planner_q, \"s,a,o,r\", max_steps = horizon)\n",
    "                state_histories[budget, trial, count] = s\n",
    "                action_histories[budget, trial, count] = a\n",
    "                observation_histories[budget, trial, count] = o\n",
    "                reward_histories[budget, trial, count] = r\n",
    "\n",
    "                #push!(actions_taken,a)\n",
    "                if r == 1\n",
    "                    survive_data[budget,trial] += 1\n",
    "                end\n",
    "                count += 1\n",
    "            end\n",
    "        end\n",
    "    end\n",
    "    save(\"results/state_histories_\"*component_id*\".jld\", \"data\", state_histories)\n",
    "    save(\"results/action_histories_\"*component_id*\".jld\", \"data\", action_histories)\n",
    "    save(\"results/observation_histories_\"*component_id*\".jld\", \"data\", observation_histories)\n",
    "    save(\"results/reward_histories_\"*component_id*\".jld\", \"data\", reward_histories)\n",
    "    save(\"results/survive_data_\"*component_id*\".jld\", \"data\", survive_data)\n",
    "end"
   ]
  },
  {
   "cell_type": "code",
   "execution_count": 9,
   "id": "1f0f92f2",
   "metadata": {
    "scrolled": true
   },
   "outputs": [],
   "source": [
    "function parallel_cpu!(x,y,z)\n",
    "    Threads.@threads for i in 1:length(x)\n",
    "        build_pomdp(x[i],y[i],z[i])\n",
    "    end\n",
    "    return nothing\n",
    "end\n",
    "\n",
    "df = DataFrames.DataFrame(CSV.File(\"selected_15_components_data.csv\"))\n",
    "component_ids = df[!,\"component_id\"]\n",
    "replacement_costs = df[!,\"replacement_cost\"]\n",
    "inspection_costs = df[!,\"inspection_cost\"]\n",
    "\n",
    "# specify which indices to run (indexed by rows order in selected_15_components_data NOT by component id)\n",
    "indices_to_run = [1,2,3,4,5,6,7,8]\n",
    "\n",
    "parallel_cpu!(component_ids[indices_to_run],replacement_costs[indices_to_run],inspection_costs[indices_to_run])"
   ]
  }
 ],
 "metadata": {
  "kernelspec": {
   "display_name": "Julia (8 threads) 1.8.5",
   "language": "julia",
   "name": "julia-_8-threads_-1.8"
  },
  "language_info": {
   "file_extension": ".jl",
   "mimetype": "application/julia",
   "name": "julia",
   "version": "1.8.5"
  }
 },
 "nbformat": 4,
 "nbformat_minor": 5
}
