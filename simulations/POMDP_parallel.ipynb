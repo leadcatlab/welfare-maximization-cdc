{
 "cells": [
  {
   "cell_type": "code",
   "execution_count": 1,
   "id": "3c27e641",
   "metadata": {},
   "outputs": [
    {
     "data": {
      "text/plain": [
       "8"
      ]
     },
     "execution_count": 1,
     "metadata": {},
     "output_type": "execute_result"
    }
   ],
   "source": [
    "Threads.nthreads()"
   ]
  },
  {
   "cell_type": "code",
   "execution_count": 2,
   "id": "cdeba1b9",
   "metadata": {},
   "outputs": [],
   "source": [
    "using POMDPs, QuickPOMDPs, Statistics, CSV, DataFrames, JLD2"
   ]
  },
  {
   "cell_type": "code",
   "execution_count": 3,
   "id": "bb564780",
   "metadata": {},
   "outputs": [
    {
     "name": "stderr",
     "output_type": "stream",
     "text": [
      "\u001b[32m\u001b[1m   Resolving\u001b[22m\u001b[39m package versions...\n",
      "\u001b[32m\u001b[1m  No Changes\u001b[22m\u001b[39m to `~/.julia/environments/v1.8/Project.toml`\n",
      "\u001b[32m\u001b[1m  No Changes\u001b[22m\u001b[39m to `~/.julia/environments/v1.8/Manifest.toml`\n"
     ]
    }
   ],
   "source": [
    "using Pkg\n",
    "Pkg.develop(path=\"ParticleFilters\")"
   ]
  },
  {
   "cell_type": "code",
   "execution_count": 4,
   "id": "763c99ed",
   "metadata": {},
   "outputs": [
    {
     "data": {
      "text/plain": [
       "\"/home/pranay/Repos/welfare-maximization-cdc/simulations/ParticleFilters/src/ParticleFilters.jl\""
      ]
     },
     "execution_count": 4,
     "metadata": {},
     "output_type": "execute_result"
    }
   ],
   "source": [
    "using ParticleFilters\n",
    "pathof(ParticleFilters)"
   ]
  },
  {
   "cell_type": "code",
   "execution_count": 5,
   "id": "54162096",
   "metadata": {},
   "outputs": [
    {
     "name": "stderr",
     "output_type": "stream",
     "text": [
      "\u001b[32m\u001b[1m   Resolving\u001b[22m\u001b[39m package versions...\n",
      "\u001b[32m\u001b[1m  No Changes\u001b[22m\u001b[39m to `~/.julia/environments/v1.8/Project.toml`\n",
      "\u001b[32m\u001b[1m  No Changes\u001b[22m\u001b[39m to `~/.julia/environments/v1.8/Manifest.toml`\n"
     ]
    }
   ],
   "source": [
    "using Pkg\n",
    "Pkg.develop(path=\"POMDPTools\")"
   ]
  },
  {
   "cell_type": "code",
   "execution_count": 6,
   "id": "fbac045b",
   "metadata": {},
   "outputs": [],
   "source": [
    "using POMDPTools"
   ]
  },
  {
   "cell_type": "code",
   "execution_count": 7,
   "id": "e4c80c61",
   "metadata": {},
   "outputs": [
    {
     "data": {
      "text/plain": [
       "\"/home/pranay/Repos/welfare-maximization-cdc/simulations/POMDPTools/src/POMDPTools.jl\""
      ]
     },
     "execution_count": 7,
     "metadata": {},
     "output_type": "execute_result"
    }
   ],
   "source": [
    "pathof(POMDPTools)"
   ]
  },
  {
   "cell_type": "code",
   "execution_count": 8,
   "id": "74c0e202",
   "metadata": {},
   "outputs": [
    {
     "name": "stderr",
     "output_type": "stream",
     "text": [
      "\u001b[33m\u001b[1m┌ \u001b[22m\u001b[39m\u001b[33m\u001b[1mWarning: \u001b[22m\u001b[39mPOMDPs.@implemented is deprecated, use POMDPLinter.@implemented instead.\n",
      "\u001b[33m\u001b[1m└ \u001b[22m\u001b[39m\u001b[90m@ POMDPs ~/.julia/packages/POMDPs/XBTe5/src/deprecated.jl:10\u001b[39m\n"
     ]
    },
    {
     "data": {
      "text/plain": [
       "Main.BasicPOMCP"
      ]
     },
     "execution_count": 8,
     "metadata": {},
     "output_type": "execute_result"
    }
   ],
   "source": [
    "include(\"temps/BasicPOMCP_2.jl\")"
   ]
  },
  {
   "cell_type": "code",
   "execution_count": 17,
   "id": "9babdd96",
   "metadata": {},
   "outputs": [
    {
     "data": {
      "text/plain": [
       "build_pomdp (generic function with 1 method)"
      ]
     },
     "execution_count": 17,
     "metadata": {},
     "output_type": "execute_result"
    }
   ],
   "source": [
    "function save_data(filename::AbstractString, data)\n",
    "    jldopen(filename, \"w\") do file\n",
    "        file[\"data\"] = data\n",
    "    end\n",
    "end\n",
    "\n",
    "function build_pomdp(component_id, replacement_cost, inspection_cost)\n",
    "    num_trials = 5;\n",
    "    num_budgets = 50;\n",
    "    budget_step_size = 200;\n",
    "    horizon = 100;\n",
    "    component_id = string(component_id)\n",
    "\n",
    "    # num_components x num_budgets x num_trials x horizon sized array for each logging element\n",
    "    state_histories = Array{Tuple{Int64,Int64},3}(undef, num_budgets+1, num_trials, horizon);\n",
    "    action_histories = Array{String,3}(undef, num_budgets+1, num_trials, horizon);\n",
    "    observation_histories = Array{Tuple{Int64,Int64},3}(undef, num_budgets+1, num_trials, horizon);\n",
    "    reward_histories = Array{Float64,3}(undef, num_budgets+1, num_trials, horizon);\n",
    "\n",
    "    # println(\"Running simulation for component = \"*component_id)\n",
    "    dynamics = []\n",
    "    open(\"dynamics/dynamics_\"*component_id*\".csv\") do f\n",
    "        line = 0  \n",
    "        while ! eof(f) \n",
    "            # read a new / next line for every iteration          \n",
    "            s = readline(f)\n",
    "            s = parse.(Float64, split(chop(s; head=1, tail=1), ','))\n",
    "            push!(dynamics,s)\n",
    "            line += 1\n",
    "        end\n",
    "    end\n",
    "\n",
    "    budgets = 0:budget_step_size:10000\n",
    "\n",
    "    for budget in 1:num_budgets+1\n",
    "        buildingprob = QuickPOMDP(\n",
    "                actions = [\"maintain\", \"inspect\", \"do-nothing\"],\n",
    "\n",
    "                transition = function(s,a)\n",
    "                    next_states_inspect = []\n",
    "                    next_states_nothing = []\n",
    "                    for i in 0:s[1]\n",
    "                        push!(next_states_inspect, (i,s[2]+inspection_cost))\n",
    "                        push!(next_states_nothing, (i,s[2]))\n",
    "                    end\n",
    "                    if a == \"maintain\"\n",
    "                        return Deterministic((100, s[2] + replacement_cost))\n",
    "                    elseif a == \"inspect\"\n",
    "                        return SparseCat(next_states_inspect, dynamics[s[1]+1])\n",
    "                    elseif a == \"do-nothing\"\n",
    "                        return SparseCat(next_states_nothing, dynamics[s[1]+1])\n",
    "                    end\n",
    "                end,\n",
    "\n",
    "                observation = function(s,a,sp)\n",
    "                    if a == \"inspect\"\n",
    "                        return Deterministic(sp)\n",
    "                    elseif a == \"maintain\"\n",
    "                        return Deterministic((101, sp[2]))\n",
    "                    elseif a == \"do-nothing\"\n",
    "                        return Deterministic((101, sp[2]))\n",
    "                    end\n",
    "                end,\n",
    "\n",
    "                reward = function(s,a,sp)\n",
    "                    if sp[1] > 0\n",
    "                        return 1\n",
    "                    elseif sp[1] == 0\n",
    "                        return -1\n",
    "                    end\n",
    "                end,\n",
    "\n",
    "                obstype = Tuple{Int64,Int64},\n",
    "                actiontype = String,\n",
    "                initialstate = Deterministic((100, 0)),\n",
    "                isterminal = function(s)\n",
    "                    if s[2] + replacement_cost > budgets[budget] || s[1] == 0\n",
    "                        return true\n",
    "                    else\n",
    "                        return false\n",
    "                    end\n",
    "                end)\n",
    "\n",
    "        solver_q = BasicPOMCP.POMCPSolver(max_depth=50, c=10, tree_queries=2000, default_action=\"do-nothing\");\n",
    "        planner_q = solve(solver_q, buildingprob);\n",
    "\n",
    "        for trial in 1:num_trials\n",
    "            count = 1\n",
    "            for (s, a, o, r, b) in stepthrough(buildingprob, planner_q, \"s,a,o,r,b\", max_steps = horizon)\n",
    "                state_histories[budget, trial, count] = s\n",
    "                action_histories[budget, trial, count] = a\n",
    "                observation_histories[budget, trial, count] = o\n",
    "                reward_histories[budget, trial, count] = r\n",
    "                count += 1\n",
    "            end\n",
    "        end\n",
    "    end\n",
    "\n",
    "    save_data(\"./results/state_histories_\"*component_id*\".jld2\", state_histories)\n",
    "    save_data(\"./results/action_histories_\"*component_id*\".jld2\", action_histories)\n",
    "    save_data(\"./results/observation_histories_\"*component_id*\".jld2\", observation_histories)\n",
    "    save_data(\"./results/reward_histories_\"*component_id*\".jld2\", reward_histories)\n",
    "end"
   ]
  },
  {
   "cell_type": "code",
   "execution_count": 14,
   "id": "1f0f92f2",
   "metadata": {
    "scrolled": true
   },
   "outputs": [],
   "source": [
    "function parallel_cpu!(x,y,z)\n",
    "    Threads.@threads for i in 1:length(x)\n",
    "        build_pomdp(x[i],y[i],z[i])\n",
    "    end\n",
    "    return nothing\n",
    "end\n",
    "\n",
    "df = DataFrames.DataFrame(CSV.File(\"all_components_data.csv\"))\n",
    "component_ids = df[!,\"component_id\"]\n",
    "replacement_costs = df[!,\"replacement_cost\"]\n",
    "inspection_costs = df[!,\"inspection_cost\"]\n",
    "\n",
    "# specify which indices to run (indexed by rows order in selected_15_components_data NOT by component id)\n",
    "indices_to_run = [1,2,3,4,5,6,7,8,9,10,11,12,13,14,15,16] #25,26,27,28,29,30,31,32,33,34,35]\n",
    "parallel_cpu!(component_ids[indices_to_run],replacement_costs[indices_to_run],inspection_costs[indices_to_run])"
   ]
  }
 ],
 "metadata": {
  "kernelspec": {
   "display_name": "Julia 8 Threads 1.8.5",
   "language": "julia",
   "name": "julia-8-threads-1.8"
  },
  "language_info": {
   "file_extension": ".jl",
   "mimetype": "application/julia",
   "name": "julia",
   "version": "1.8.5"
  }
 },
 "nbformat": 4,
 "nbformat_minor": 5
}
