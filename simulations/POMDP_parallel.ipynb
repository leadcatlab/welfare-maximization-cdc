{
 "cells": [
  {
   "cell_type": "code",
   "execution_count": 1,
   "id": "3c27e641",
   "metadata": {},
   "outputs": [
    {
     "data": {
      "text/plain": [
       "6"
      ]
     },
     "execution_count": 1,
     "metadata": {},
     "output_type": "execute_result"
    }
   ],
   "source": [
    "Threads.nthreads()"
   ]
  },
  {
   "cell_type": "code",
   "execution_count": 2,
   "id": "cdeba1b9",
   "metadata": {},
   "outputs": [],
   "source": [
    "using POMDPs, QuickPOMDPs, Statistics, CSV, DataFrames, JLD2"
   ]
  },
  {
   "cell_type": "code",
   "execution_count": 3,
   "id": "bb564780",
   "metadata": {},
   "outputs": [
    {
     "name": "stderr",
     "output_type": "stream",
     "text": [
      "\u001b[32m\u001b[1m   Resolving\u001b[22m\u001b[39m package versions...\n",
      "\u001b[32m\u001b[1m  No Changes\u001b[22m\u001b[39m to `C:\\Users\\pranayt2\\.julia\\environments\\v1.8\\Project.toml`\n",
      "\u001b[32m\u001b[1m  No Changes\u001b[22m\u001b[39m to `C:\\Users\\pranayt2\\.julia\\environments\\v1.8\\Manifest.toml`\n"
     ]
    }
   ],
   "source": [
    "using Pkg\n",
    "Pkg.develop(path=\"D:\\\\Repos\\\\welfare-maximization-cdc\\\\simulations\\\\ParticleFilters\")"
   ]
  },
  {
   "cell_type": "code",
   "execution_count": 4,
   "id": "763c99ed",
   "metadata": {},
   "outputs": [],
   "source": [
    "using ParticleFilters"
   ]
  },
  {
   "cell_type": "code",
   "execution_count": 5,
   "id": "54162096",
   "metadata": {},
   "outputs": [
    {
     "name": "stderr",
     "output_type": "stream",
     "text": [
      "\u001b[32m\u001b[1m   Resolving\u001b[22m\u001b[39m package versions...\n",
      "\u001b[32m\u001b[1m  No Changes\u001b[22m\u001b[39m to `C:\\Users\\pranayt2\\.julia\\environments\\v1.8\\Project.toml`\n",
      "\u001b[32m\u001b[1m  No Changes\u001b[22m\u001b[39m to `C:\\Users\\pranayt2\\.julia\\environments\\v1.8\\Manifest.toml`\n"
     ]
    }
   ],
   "source": [
    "using Pkg\n",
    "Pkg.develop(path=\"D:\\\\Repos\\\\welfare-maximization-cdc\\\\simulations\\\\POMDPTools\")"
   ]
  },
  {
   "cell_type": "code",
   "execution_count": 6,
   "id": "fbac045b",
   "metadata": {},
   "outputs": [],
   "source": [
    "using POMDPTools"
   ]
  },
  {
   "cell_type": "code",
   "execution_count": 7,
   "id": "e4c80c61",
   "metadata": {},
   "outputs": [
    {
     "data": {
      "text/plain": [
       "\"D:\\\\Repos\\\\welfare-maximization-cdc\\\\simulations\\\\POMDPTools\\\\src\\\\POMDPTools.jl\""
      ]
     },
     "execution_count": 7,
     "metadata": {},
     "output_type": "execute_result"
    }
   ],
   "source": [
    "pathof(POMDPTools)"
   ]
  },
  {
   "cell_type": "code",
   "execution_count": 8,
   "id": "74c0e202",
   "metadata": {},
   "outputs": [
    {
     "name": "stderr",
     "output_type": "stream",
     "text": [
      "\u001b[33m\u001b[1m┌ \u001b[22m\u001b[39m\u001b[33m\u001b[1mWarning: \u001b[22m\u001b[39mPOMDPs.@implemented is deprecated, use POMDPLinter.@implemented instead.\n",
      "\u001b[33m\u001b[1m└ \u001b[22m\u001b[39m\u001b[90m@ POMDPs C:\\Users\\pranayt2\\.julia\\packages\\POMDPs\\XBTe5\\src\\deprecated.jl:10\u001b[39m\n"
     ]
    },
    {
     "data": {
      "text/plain": [
       "Main.BasicPOMCP"
      ]
     },
     "execution_count": 8,
     "metadata": {},
     "output_type": "execute_result"
    }
   ],
   "source": [
    "include(\"temps/BasicPOMCP_2.jl\")"
   ]
  },
  {
   "cell_type": "code",
   "execution_count": 9,
   "id": "9babdd96",
   "metadata": {},
   "outputs": [
    {
     "data": {
      "text/plain": [
       "build_pomdp (generic function with 1 method)"
      ]
     },
     "execution_count": 9,
     "metadata": {},
     "output_type": "execute_result"
    }
   ],
   "source": [
    "function save_data(filename::AbstractString, data)\n",
    "    jldopen(filename, \"w\") do file\n",
    "        file[\"data\"] = data\n",
    "    end\n",
    "end\n",
    "\n",
    "function build_pomdp(component_id, replacement_cost, inspection_cost)\n",
    "    num_trials = 5;\n",
    "    num_budgets = 50;\n",
    "    horizon = 100;\n",
    "    component_id = string(component_id)\n",
    "\n",
    "    # num_components x num_budgets x num_trials x horizon sized array for each logging element\n",
    "    state_histories = Array{Tuple{Int64,Int64},3}(undef, num_budgets+1, num_trials, horizon);\n",
    "    action_histories = Array{String,3}(undef, num_budgets+1, num_trials, horizon);\n",
    "    observation_histories = Array{Tuple{Int64,Int64},3}(undef, num_budgets+1, num_trials, horizon);\n",
    "    reward_histories = Array{Float64,3}(undef, num_budgets+1, num_trials, horizon);\n",
    "\n",
    "    # println(\"Running simulation for component = \"*component_id)\n",
    "    dynamics = []\n",
    "    open(\"dynamics/dynamics_\"*component_id*\".csv\") do f\n",
    "        line = 0  \n",
    "        while ! eof(f) \n",
    "            # read a new / next line for every iteration          \n",
    "            s = readline(f)\n",
    "            s = parse.(Float64, split(chop(s; head=1, tail=1), ','))\n",
    "            push!(dynamics,s)\n",
    "            line += 1\n",
    "        end\n",
    "    end\n",
    "\n",
    "    budgets = 0:10000/num_budgets:10000\n",
    "\n",
    "    for budget in 1:num_budgets+1\n",
    "        buildingprob = QuickPOMDP(\n",
    "                actions = [\"maintain\", \"inspect\", \"do-nothing\"],\n",
    "\n",
    "                transition = function(s,a)\n",
    "                    next_states_inspect = []\n",
    "                    next_states_nothing = []\n",
    "                    for i in 0:s[1]\n",
    "                        push!(next_states_inspect, (i,s[2]+inspection_cost))\n",
    "                        push!(next_states_nothing, (i,s[2]))\n",
    "                    end\n",
    "                    if a == \"maintain\"\n",
    "                        return Deterministic((100, s[2] + replacement_cost))\n",
    "                    elseif a == \"inspect\"\n",
    "                        return SparseCat(next_states_inspect, dynamics[s[1]+1])\n",
    "                    elseif a == \"do-nothing\"\n",
    "                        return SparseCat(next_states_nothing, dynamics[s[1]+1])\n",
    "                    end\n",
    "                end,\n",
    "\n",
    "                observation = function(s,a,sp)\n",
    "                    if a == \"inspect\"\n",
    "                        return Deterministic(sp)\n",
    "                    elseif a == \"maintain\"\n",
    "                        return Deterministic((101, sp[2]))\n",
    "                    elseif a == \"do-nothing\"\n",
    "                        return Deterministic((101, sp[2]))\n",
    "                    end\n",
    "                end,\n",
    "\n",
    "                reward = function(s,a,sp)\n",
    "                    if sp[1] > 0\n",
    "                        return 1\n",
    "                    elseif sp[1] == 0\n",
    "                        return 0\n",
    "                    end\n",
    "                end,\n",
    "\n",
    "                obstype = Tuple{Int64,Int64},\n",
    "                actiontype = String,\n",
    "                initialstate = Deterministic((100, 0)),\n",
    "                isterminal = function(s)\n",
    "                    if s[2] + replacement_cost > budgets[budget] || s[1] == 0\n",
    "                        return true\n",
    "                    else\n",
    "                        return false\n",
    "                    end\n",
    "                end)\n",
    "\n",
    "        solver_q = BasicPOMCP.POMCPSolver(max_depth=60, c=10, tree_queries=2500, default_action=\"do-nothing\");\n",
    "        planner_q = solve(solver_q, buildingprob);\n",
    "\n",
    "        for trial in 1:num_trials\n",
    "            count = 1\n",
    "            for (s, a, o, r, b) in stepthrough(buildingprob, planner_q, \"s,a,o,r,b\", max_steps = horizon)\n",
    "                state_histories[budget, trial, count] = s\n",
    "                action_histories[budget, trial, count] = a\n",
    "                observation_histories[budget, trial, count] = o\n",
    "                reward_histories[budget, trial, count] = r\n",
    "                count += 1\n",
    "            end\n",
    "        end\n",
    "    end\n",
    "\n",
    "    save_data(\"results/all-results/state_histories_\"*component_id*\".jld2\", state_histories)\n",
    "    save_data(\"results/all-results/action_histories_\"*component_id*\".jld2\", action_histories)\n",
    "    save_data(\"results/all-results/observation_histories_\"*component_id*\".jld2\", observation_histories)\n",
    "    save_data(\"results/all-results/reward_histories_\"*component_id*\".jld2\", reward_histories)\n",
    "end"
   ]
  },
  {
   "cell_type": "code",
   "execution_count": 10,
   "id": "1f0f92f2",
   "metadata": {
    "scrolled": true
   },
   "outputs": [
    {
     "ename": "LoadError",
     "evalue": "TaskFailedException\n\n\u001b[91m    nested task error: \u001b[39mArgumentError: cannot parse \"  0.0]\" as Float64\n    Stacktrace:\n      [1] \u001b[0m\u001b[1m_parse_failure\u001b[22m\u001b[0m\u001b[1m(\u001b[22m\u001b[90mT\u001b[39m::\u001b[0mType, \u001b[90ms\u001b[39m::\u001b[0mSubString\u001b[90m{String}\u001b[39m, \u001b[90mstartpos\u001b[39m::\u001b[0mInt64, \u001b[90mendpos\u001b[39m::\u001b[0mInt64\u001b[0m\u001b[1m)\u001b[22m\u001b[90m (repeats 2 times)\u001b[39m\n    \u001b[90m    @ \u001b[39m\u001b[90mBase\u001b[39m \u001b[90m.\\\u001b[39m\u001b[90m\u001b[4mparse.jl:373\u001b[24m\u001b[39m\n      [2] \u001b[0m\u001b[1m#tryparse_internal#478\u001b[22m\n    \u001b[90m    @ \u001b[39m\u001b[90m.\\\u001b[39m\u001b[90m\u001b[4mparse.jl:369\u001b[24m\u001b[39m\u001b[90m [inlined]\u001b[39m\n      [3] \u001b[0m\u001b[1mtryparse_internal\u001b[22m\n    \u001b[90m    @ \u001b[39m\u001b[90m.\\\u001b[39m\u001b[90m\u001b[4mparse.jl:366\u001b[24m\u001b[39m\u001b[90m [inlined]\u001b[39m\n      [4] \u001b[0m\u001b[1m#parse#479\u001b[22m\n    \u001b[90m    @ \u001b[39m\u001b[90m.\\\u001b[39m\u001b[90m\u001b[4mparse.jl:379\u001b[24m\u001b[39m\u001b[90m [inlined]\u001b[39m\n      [5] \u001b[0m\u001b[1mparse\u001b[22m\n    \u001b[90m    @ \u001b[39m\u001b[90m.\\\u001b[39m\u001b[90m\u001b[4mparse.jl:379\u001b[24m\u001b[39m\u001b[90m [inlined]\u001b[39m\n      [6] \u001b[0m\u001b[1m_broadcast_getindex_evalf\u001b[22m\n    \u001b[90m    @ \u001b[39m\u001b[90m.\\\u001b[39m\u001b[90m\u001b[4mbroadcast.jl:670\u001b[24m\u001b[39m\u001b[90m [inlined]\u001b[39m\n      [7] \u001b[0m\u001b[1m_broadcast_getindex\u001b[22m\n    \u001b[90m    @ \u001b[39m\u001b[90m.\\\u001b[39m\u001b[90m\u001b[4mbroadcast.jl:653\u001b[24m\u001b[39m\u001b[90m [inlined]\u001b[39m\n      [8] \u001b[0m\u001b[1mgetindex\u001b[22m\n    \u001b[90m    @ \u001b[39m\u001b[90m.\\\u001b[39m\u001b[90m\u001b[4mbroadcast.jl:597\u001b[24m\u001b[39m\u001b[90m [inlined]\u001b[39m\n      [9] \u001b[0m\u001b[1mmacro expansion\u001b[22m\n    \u001b[90m    @ \u001b[39m\u001b[90m.\\\u001b[39m\u001b[90m\u001b[4mbroadcast.jl:961\u001b[24m\u001b[39m\u001b[90m [inlined]\u001b[39m\n     [10] \u001b[0m\u001b[1mmacro expansion\u001b[22m\n    \u001b[90m    @ \u001b[39m\u001b[90m.\\\u001b[39m\u001b[90m\u001b[4msimdloop.jl:77\u001b[24m\u001b[39m\u001b[90m [inlined]\u001b[39m\n     [11] \u001b[0m\u001b[1mcopyto!\u001b[22m\n    \u001b[90m    @ \u001b[39m\u001b[90m.\\\u001b[39m\u001b[90m\u001b[4mbroadcast.jl:960\u001b[24m\u001b[39m\u001b[90m [inlined]\u001b[39m\n     [12] \u001b[0m\u001b[1mcopyto!\u001b[22m\n    \u001b[90m    @ \u001b[39m\u001b[90m.\\\u001b[39m\u001b[90m\u001b[4mbroadcast.jl:913\u001b[24m\u001b[39m\u001b[90m [inlined]\u001b[39m\n     [13] \u001b[0m\u001b[1mcopy\u001b[22m\n    \u001b[90m    @ \u001b[39m\u001b[90m.\\\u001b[39m\u001b[90m\u001b[4mbroadcast.jl:885\u001b[24m\u001b[39m\u001b[90m [inlined]\u001b[39m\n     [14] \u001b[0m\u001b[1mmaterialize\u001b[22m\n    \u001b[90m    @ \u001b[39m\u001b[90m.\\\u001b[39m\u001b[90m\u001b[4mbroadcast.jl:860\u001b[24m\u001b[39m\u001b[90m [inlined]\u001b[39m\n     [15] \u001b[0m\u001b[1m(::var\"#3#8\"{Vector{Any}})\u001b[22m\u001b[0m\u001b[1m(\u001b[22m\u001b[90mf\u001b[39m::\u001b[0mIOStream\u001b[0m\u001b[1m)\u001b[22m\n    \u001b[90m    @ \u001b[39m\u001b[35mMain\u001b[39m \u001b[90m.\\\u001b[39m\u001b[90m\u001b[4mIn[9]:26\u001b[24m\u001b[39m\n     [16] \u001b[0m\u001b[1mopen\u001b[22m\u001b[0m\u001b[1m(\u001b[22m\u001b[90mf\u001b[39m::\u001b[0mvar\"#3#8\"\u001b[90m{Vector{Any}}\u001b[39m, \u001b[90margs\u001b[39m::\u001b[0mString; \u001b[90mkwargs\u001b[39m::\u001b[0mBase.Pairs\u001b[90m{Symbol, Union{}, Tuple{}, NamedTuple{(), Tuple{}}}\u001b[39m\u001b[0m\u001b[1m)\u001b[22m\n    \u001b[90m    @ \u001b[39m\u001b[90mBase\u001b[39m \u001b[90m.\\\u001b[39m\u001b[90m\u001b[4mio.jl:384\u001b[24m\u001b[39m\n     [17] \u001b[0m\u001b[1mopen\u001b[22m\n    \u001b[90m    @ \u001b[39m\u001b[90m.\\\u001b[39m\u001b[90m\u001b[4mio.jl:381\u001b[24m\u001b[39m\u001b[90m [inlined]\u001b[39m\n     [18] \u001b[0m\u001b[1mbuild_pomdp\u001b[22m\u001b[0m\u001b[1m(\u001b[22m\u001b[90mcomponent_id\u001b[39m::\u001b[0mInt64, \u001b[90mreplacement_cost\u001b[39m::\u001b[0mFloat64, \u001b[90minspection_cost\u001b[39m::\u001b[0mFloat64\u001b[0m\u001b[1m)\u001b[22m\n    \u001b[90m    @ \u001b[39m\u001b[35mMain\u001b[39m \u001b[90m.\\\u001b[39m\u001b[90m\u001b[4mIn[9]:21\u001b[24m\u001b[39m\n     [19] \u001b[0m\u001b[1mmacro expansion\u001b[22m\n    \u001b[90m    @ \u001b[39m\u001b[90m.\\\u001b[39m\u001b[90m\u001b[4mIn[10]:3\u001b[24m\u001b[39m\u001b[90m [inlined]\u001b[39m\n     [20] \u001b[0m\u001b[1m(::var\"#138#threadsfor_fun#14\"{var\"#138#threadsfor_fun#13#15\"{Vector{Int64}, Vector{Float64}, Vector{Float64}, UnitRange{Int64}}})\u001b[22m\u001b[0m\u001b[1m(\u001b[22m\u001b[90mtid\u001b[39m::\u001b[0mInt64; \u001b[90monethread\u001b[39m::\u001b[0mBool\u001b[0m\u001b[1m)\u001b[22m\n    \u001b[90m    @ \u001b[39m\u001b[35mMain\u001b[39m \u001b[90m.\\\u001b[39m\u001b[90m\u001b[4mthreadingconstructs.jl:84\u001b[24m\u001b[39m\n     [21] \u001b[0m\u001b[1m#138#threadsfor_fun\u001b[22m\n    \u001b[90m    @ \u001b[39m\u001b[90m.\\\u001b[39m\u001b[90m\u001b[4mthreadingconstructs.jl:51\u001b[24m\u001b[39m\u001b[90m [inlined]\u001b[39m\n     [22] \u001b[0m\u001b[1m(::Base.Threads.var\"#1#2\"{var\"#138#threadsfor_fun#14\"{var\"#138#threadsfor_fun#13#15\"{Vector{Int64}, Vector{Float64}, Vector{Float64}, UnitRange{Int64}}}, Int64})\u001b[22m\u001b[0m\u001b[1m(\u001b[22m\u001b[0m\u001b[1m)\u001b[22m\n    \u001b[90m    @ \u001b[39m\u001b[90mBase.Threads\u001b[39m \u001b[90m.\\\u001b[39m\u001b[90m\u001b[4mthreadingconstructs.jl:30\u001b[24m\u001b[39m",
     "output_type": "error",
     "traceback": [
      "TaskFailedException\n\n\u001b[91m    nested task error: \u001b[39mArgumentError: cannot parse \"  0.0]\" as Float64\n    Stacktrace:\n      [1] \u001b[0m\u001b[1m_parse_failure\u001b[22m\u001b[0m\u001b[1m(\u001b[22m\u001b[90mT\u001b[39m::\u001b[0mType, \u001b[90ms\u001b[39m::\u001b[0mSubString\u001b[90m{String}\u001b[39m, \u001b[90mstartpos\u001b[39m::\u001b[0mInt64, \u001b[90mendpos\u001b[39m::\u001b[0mInt64\u001b[0m\u001b[1m)\u001b[22m\u001b[90m (repeats 2 times)\u001b[39m\n    \u001b[90m    @ \u001b[39m\u001b[90mBase\u001b[39m \u001b[90m.\\\u001b[39m\u001b[90m\u001b[4mparse.jl:373\u001b[24m\u001b[39m\n      [2] \u001b[0m\u001b[1m#tryparse_internal#478\u001b[22m\n    \u001b[90m    @ \u001b[39m\u001b[90m.\\\u001b[39m\u001b[90m\u001b[4mparse.jl:369\u001b[24m\u001b[39m\u001b[90m [inlined]\u001b[39m\n      [3] \u001b[0m\u001b[1mtryparse_internal\u001b[22m\n    \u001b[90m    @ \u001b[39m\u001b[90m.\\\u001b[39m\u001b[90m\u001b[4mparse.jl:366\u001b[24m\u001b[39m\u001b[90m [inlined]\u001b[39m\n      [4] \u001b[0m\u001b[1m#parse#479\u001b[22m\n    \u001b[90m    @ \u001b[39m\u001b[90m.\\\u001b[39m\u001b[90m\u001b[4mparse.jl:379\u001b[24m\u001b[39m\u001b[90m [inlined]\u001b[39m\n      [5] \u001b[0m\u001b[1mparse\u001b[22m\n    \u001b[90m    @ \u001b[39m\u001b[90m.\\\u001b[39m\u001b[90m\u001b[4mparse.jl:379\u001b[24m\u001b[39m\u001b[90m [inlined]\u001b[39m\n      [6] \u001b[0m\u001b[1m_broadcast_getindex_evalf\u001b[22m\n    \u001b[90m    @ \u001b[39m\u001b[90m.\\\u001b[39m\u001b[90m\u001b[4mbroadcast.jl:670\u001b[24m\u001b[39m\u001b[90m [inlined]\u001b[39m\n      [7] \u001b[0m\u001b[1m_broadcast_getindex\u001b[22m\n    \u001b[90m    @ \u001b[39m\u001b[90m.\\\u001b[39m\u001b[90m\u001b[4mbroadcast.jl:653\u001b[24m\u001b[39m\u001b[90m [inlined]\u001b[39m\n      [8] \u001b[0m\u001b[1mgetindex\u001b[22m\n    \u001b[90m    @ \u001b[39m\u001b[90m.\\\u001b[39m\u001b[90m\u001b[4mbroadcast.jl:597\u001b[24m\u001b[39m\u001b[90m [inlined]\u001b[39m\n      [9] \u001b[0m\u001b[1mmacro expansion\u001b[22m\n    \u001b[90m    @ \u001b[39m\u001b[90m.\\\u001b[39m\u001b[90m\u001b[4mbroadcast.jl:961\u001b[24m\u001b[39m\u001b[90m [inlined]\u001b[39m\n     [10] \u001b[0m\u001b[1mmacro expansion\u001b[22m\n    \u001b[90m    @ \u001b[39m\u001b[90m.\\\u001b[39m\u001b[90m\u001b[4msimdloop.jl:77\u001b[24m\u001b[39m\u001b[90m [inlined]\u001b[39m\n     [11] \u001b[0m\u001b[1mcopyto!\u001b[22m\n    \u001b[90m    @ \u001b[39m\u001b[90m.\\\u001b[39m\u001b[90m\u001b[4mbroadcast.jl:960\u001b[24m\u001b[39m\u001b[90m [inlined]\u001b[39m\n     [12] \u001b[0m\u001b[1mcopyto!\u001b[22m\n    \u001b[90m    @ \u001b[39m\u001b[90m.\\\u001b[39m\u001b[90m\u001b[4mbroadcast.jl:913\u001b[24m\u001b[39m\u001b[90m [inlined]\u001b[39m\n     [13] \u001b[0m\u001b[1mcopy\u001b[22m\n    \u001b[90m    @ \u001b[39m\u001b[90m.\\\u001b[39m\u001b[90m\u001b[4mbroadcast.jl:885\u001b[24m\u001b[39m\u001b[90m [inlined]\u001b[39m\n     [14] \u001b[0m\u001b[1mmaterialize\u001b[22m\n    \u001b[90m    @ \u001b[39m\u001b[90m.\\\u001b[39m\u001b[90m\u001b[4mbroadcast.jl:860\u001b[24m\u001b[39m\u001b[90m [inlined]\u001b[39m\n     [15] \u001b[0m\u001b[1m(::var\"#3#8\"{Vector{Any}})\u001b[22m\u001b[0m\u001b[1m(\u001b[22m\u001b[90mf\u001b[39m::\u001b[0mIOStream\u001b[0m\u001b[1m)\u001b[22m\n    \u001b[90m    @ \u001b[39m\u001b[35mMain\u001b[39m \u001b[90m.\\\u001b[39m\u001b[90m\u001b[4mIn[9]:26\u001b[24m\u001b[39m\n     [16] \u001b[0m\u001b[1mopen\u001b[22m\u001b[0m\u001b[1m(\u001b[22m\u001b[90mf\u001b[39m::\u001b[0mvar\"#3#8\"\u001b[90m{Vector{Any}}\u001b[39m, \u001b[90margs\u001b[39m::\u001b[0mString; \u001b[90mkwargs\u001b[39m::\u001b[0mBase.Pairs\u001b[90m{Symbol, Union{}, Tuple{}, NamedTuple{(), Tuple{}}}\u001b[39m\u001b[0m\u001b[1m)\u001b[22m\n    \u001b[90m    @ \u001b[39m\u001b[90mBase\u001b[39m \u001b[90m.\\\u001b[39m\u001b[90m\u001b[4mio.jl:384\u001b[24m\u001b[39m\n     [17] \u001b[0m\u001b[1mopen\u001b[22m\n    \u001b[90m    @ \u001b[39m\u001b[90m.\\\u001b[39m\u001b[90m\u001b[4mio.jl:381\u001b[24m\u001b[39m\u001b[90m [inlined]\u001b[39m\n     [18] \u001b[0m\u001b[1mbuild_pomdp\u001b[22m\u001b[0m\u001b[1m(\u001b[22m\u001b[90mcomponent_id\u001b[39m::\u001b[0mInt64, \u001b[90mreplacement_cost\u001b[39m::\u001b[0mFloat64, \u001b[90minspection_cost\u001b[39m::\u001b[0mFloat64\u001b[0m\u001b[1m)\u001b[22m\n    \u001b[90m    @ \u001b[39m\u001b[35mMain\u001b[39m \u001b[90m.\\\u001b[39m\u001b[90m\u001b[4mIn[9]:21\u001b[24m\u001b[39m\n     [19] \u001b[0m\u001b[1mmacro expansion\u001b[22m\n    \u001b[90m    @ \u001b[39m\u001b[90m.\\\u001b[39m\u001b[90m\u001b[4mIn[10]:3\u001b[24m\u001b[39m\u001b[90m [inlined]\u001b[39m\n     [20] \u001b[0m\u001b[1m(::var\"#138#threadsfor_fun#14\"{var\"#138#threadsfor_fun#13#15\"{Vector{Int64}, Vector{Float64}, Vector{Float64}, UnitRange{Int64}}})\u001b[22m\u001b[0m\u001b[1m(\u001b[22m\u001b[90mtid\u001b[39m::\u001b[0mInt64; \u001b[90monethread\u001b[39m::\u001b[0mBool\u001b[0m\u001b[1m)\u001b[22m\n    \u001b[90m    @ \u001b[39m\u001b[35mMain\u001b[39m \u001b[90m.\\\u001b[39m\u001b[90m\u001b[4mthreadingconstructs.jl:84\u001b[24m\u001b[39m\n     [21] \u001b[0m\u001b[1m#138#threadsfor_fun\u001b[22m\n    \u001b[90m    @ \u001b[39m\u001b[90m.\\\u001b[39m\u001b[90m\u001b[4mthreadingconstructs.jl:51\u001b[24m\u001b[39m\u001b[90m [inlined]\u001b[39m\n     [22] \u001b[0m\u001b[1m(::Base.Threads.var\"#1#2\"{var\"#138#threadsfor_fun#14\"{var\"#138#threadsfor_fun#13#15\"{Vector{Int64}, Vector{Float64}, Vector{Float64}, UnitRange{Int64}}}, Int64})\u001b[22m\u001b[0m\u001b[1m(\u001b[22m\u001b[0m\u001b[1m)\u001b[22m\n    \u001b[90m    @ \u001b[39m\u001b[90mBase.Threads\u001b[39m \u001b[90m.\\\u001b[39m\u001b[90m\u001b[4mthreadingconstructs.jl:30\u001b[24m\u001b[39m",
      "",
      "Stacktrace:",
      " [1] wait",
      "   @ .\\task.jl:345 [inlined]",
      " [2] threading_run(fun::var\"#138#threadsfor_fun#14\"{var\"#138#threadsfor_fun#13#15\"{Vector{Int64}, Vector{Float64}, Vector{Float64}, UnitRange{Int64}}}, static::Bool)",
      "   @ Base.Threads .\\threadingconstructs.jl:38",
      " [3] macro expansion",
      "   @ .\\threadingconstructs.jl:89 [inlined]",
      " [4] parallel_cpu!(x::Vector{Int64}, y::Vector{Float64}, z::Vector{Float64})",
      "   @ Main .\\In[10]:2",
      " [5] top-level scope",
      "   @ In[10]:15"
     ]
    }
   ],
   "source": [
    "function parallel_cpu!(x,y,z)\n",
    "    Threads.@threads for i in 1:length(x)\n",
    "        build_pomdp(x[i],y[i],z[i])\n",
    "    end\n",
    "    return nothing\n",
    "end\n",
    "\n",
    "df = DataFrames.DataFrame(CSV.File(\"all_components_data.csv\"))\n",
    "component_ids = df[!,\"component_id\"]\n",
    "replacement_costs = df[!,\"replacement_cost\"]\n",
    "inspection_costs = df[!,\"inspection_cost\"]\n",
    "\n",
    "# specify which indices to run (indexed by rows order in selected_15_components_data NOT by component id)\n",
    "indices_to_run = [1,2,3,4,5,6,7,8,9,10,11,12,13,14,15,16,17,18,19,20]  #,21,22,23,24,25,26,27,28,29,30,31,32,33,34,35]\n",
    "parallel_cpu!(component_ids[indices_to_run],replacement_costs[indices_to_run],inspection_costs[indices_to_run])"
   ]
  }
 ],
 "metadata": {
  "kernelspec": {
   "display_name": "Julia (6 threads) 1.8.5",
   "language": "julia",
   "name": "julia-_6-threads_-1.8"
  },
  "language_info": {
   "file_extension": ".jl",
   "mimetype": "application/julia",
   "name": "julia",
   "version": "1.8.5"
  },
  "vscode": {
   "interpreter": {
    "hash": "93cf1c63fbb45b79bb4aa67d3c0b0dec27cfa66c0174870efba95051dedf4157"
   }
  }
 },
 "nbformat": 4,
 "nbformat_minor": 5
}
