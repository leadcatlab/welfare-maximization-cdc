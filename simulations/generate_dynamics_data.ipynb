{
 "cells": [
  {
   "cell_type": "code",
   "execution_count": 1,
   "metadata": {},
   "outputs": [],
   "source": [
    "import pandas as pd\n",
    "import numpy as np\n",
    "from scipy.stats import weibull_min\n",
    "import csv\n",
    "\n",
    "\n",
    "# load general admin building data\n",
    "gen_admin_params = pd.read_csv('selected_15_components_data.csv')"
   ]
  },
  {
   "cell_type": "code",
   "execution_count": 2,
   "metadata": {},
   "outputs": [],
   "source": [
    "# helper function for generating dynamics data\n",
    "\n",
    "num_states = 101\n",
    "num_actions = 1\n",
    "states = np.arange(0, num_states, 1)\n",
    "actions = np.arange(0, num_actions, 1)\n",
    "\n",
    "def synthesize_dynamics(state, dynamics_shape, dynamics_scale):\n",
    "    \"\"\"\n",
    "    Synthesize transition dynamics from the given state in the absence of maintenance action\n",
    "    \"\"\"\n",
    "    probs = np.zeros(num_states)\n",
    "    for next_state in range(state,-1,-1):\n",
    "        probs[next_state] = weibull_min.pdf(101-next_state+1, dynamics_shape , scale=dynamics_scale, loc=101-state)\n",
    "    probs = probs/np.sum(probs)\n",
    "    return probs\n",
    "\n",
    "def gen_trans_prob(dynamics_shape, dynamics_scale):\n",
    "    \"\"\"\n",
    "    A function that generates transition probability for states of the component\n",
    "    \"\"\"\n",
    "\n",
    "    trans_prob = np.zeros((num_states, num_actions, num_states))\n",
    "    for state in states:\n",
    "        for action in range(num_actions):\n",
    "            trans_prob[state, action, :] = synthesize_dynamics(state, dynamics_shape, dynamics_scale)    \n",
    "    return trans_prob"
   ]
  },
  {
   "cell_type": "code",
   "execution_count": 3,
   "metadata": {},
   "outputs": [],
   "source": [
    "# generate dynamics for each component\n",
    "\n",
    "component_ids = list(gen_admin_params['component_id'])\n",
    "dynamics_shapes = list(gen_admin_params['shape'])\n",
    "dynamics_scales = list(gen_admin_params['scale'])\n",
    "\n",
    "for i in range(len(component_ids)):\n",
    "    trans_probs = gen_trans_prob(dynamics_shapes[i], dynamics_scales[i]).tolist()\n",
    "    dynamics = open(f'./dynamics/dynamics_{component_ids[i]}.csv', 'w')\n",
    "    writer = csv.writer(dynamics, quoting=csv.QUOTE_NONE, escapechar=' ')\n",
    "    for data in trans_probs:\n",
    "        writer.writerow(data)\n",
    "    dynamics.close()"
   ]
  }
 ],
 "metadata": {
  "kernelspec": {
   "display_name": "Python 3",
   "language": "python",
   "name": "python3"
  },
  "language_info": {
   "codemirror_mode": {
    "name": "ipython",
    "version": 3
   },
   "file_extension": ".py",
   "mimetype": "text/x-python",
   "name": "python",
   "nbconvert_exporter": "python",
   "pygments_lexer": "ipython3",
   "version": "3.9.7"
  },
  "orig_nbformat": 4,
  "vscode": {
   "interpreter": {
    "hash": "7ea7b36f3ab4d73d895f66a878f4bc127d7473c1f9256d9f6a321a5c79e6b977"
   }
  }
 },
 "nbformat": 4,
 "nbformat_minor": 2
}
