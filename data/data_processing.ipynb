{
 "cells": [
  {
   "cell_type": "code",
   "execution_count": 2,
   "metadata": {},
   "outputs": [],
   "source": [
    "import pandas as pd"
   ]
  },
  {
   "cell_type": "code",
   "execution_count": 3,
   "metadata": {},
   "outputs": [],
   "source": [
    "## Load raw data and combine cost and mean dynamics parameters into same dataframe while cleaning up column names\n",
    "\n",
    "df_raw_costs = pd.read_csv('./raw_data/components_costs_raw.csv')\n",
    "df_raw_dynamics = pd.read_csv('./raw_data/components_dynamics_raw.csv')\n",
    "\n",
    "# assign a unique index to each row in df_raw_costs as first column\n",
    "df_raw_costs['component_id'] = df_raw_costs.index\n",
    "cols = df_raw_costs.columns.tolist()\n",
    "cols = cols[-1:] + cols[:-1]\n",
    "df_raw_costs = df_raw_costs[cols]\n",
    "\n",
    "# change column names\n",
    "df_raw_costs = df_raw_costs.rename(columns={'Uniformat Code': 'uniformat_code'})\n",
    "df_raw_costs = df_raw_costs.rename(columns={'Replacement Cost': 'replacement_cost'})\n",
    "df_raw_costs = df_raw_costs.rename(columns={'Importance Index': 'importance_index'})\n",
    "df_raw_costs = df_raw_costs.rename(columns={'Component': 'component_type_name'})\n",
    "\n",
    "\n",
    "# change df_raw_dynamics column names\n",
    "df_raw_dynamics = df_raw_dynamics.rename(columns={'Uniformat Code': 'uniformat_code'})\n",
    "\n",
    "# using uniformat_code, find the corresponding row in df_raw_dynamics and take the 'Shape Mean' and 'Scale Mean' values\n",
    "# and add them to df_raw_costs\n",
    "\n",
    "df_raw_costs['shape'] = df_raw_costs['uniformat_code'].apply(lambda x: df_raw_dynamics[df_raw_dynamics['uniformat_code'] == x]['Shape Mean'].values[0])\n",
    "df_raw_costs['scale'] = df_raw_costs['uniformat_code'].apply(lambda x: df_raw_dynamics[df_raw_dynamics['uniformat_code'] == x]['Scale Mean'].values[0])\n",
    "\n",
    "# reorder columns based on replacement cost\n",
    "#df_raw_costs = df_raw_costs.sort_values(by=['replacement_cost'], ascending=False)\n",
    "df_raw_costs\n",
    "\n",
    "# save to csv file\n",
    "df_raw_costs.to_csv('./components_data_true.csv', index=False)\n"
   ]
  },
  {
   "cell_type": "code",
   "execution_count": 4,
   "metadata": {},
   "outputs": [
    {
     "data": {
      "text/plain": [
       "1566.0"
      ]
     },
     "execution_count": 4,
     "metadata": {},
     "output_type": "execute_result"
    }
   ],
   "source": [
    "## load true data and and inspection cost later scale it\n",
    "\n",
    "building_area_sqft = 9704\n",
    "budget_per_sqft = 4.54*50\n",
    "total_budget = building_area_sqft*budget_per_sqft\n",
    "scaled_budget_min = 0\n",
    "scaled_budget_max = 10000\n",
    "inspection_cost_per_sqft = 0.5\n",
    "total_inspection_cost = building_area_sqft*inspection_cost_per_sqft\n",
    "\n",
    "df_true_data = pd.read_csv('./components_data_true.csv')\n",
    "\n",
    "# assign inspection costs\n",
    "df_true_data['inspection_cost'] = round((df_true_data['replacement_cost'] / df_true_data['replacement_cost'].sum()) * total_inspection_cost,0)\n",
    "\n",
    "# scale replacement and inspection costs\n",
    "scaling_factor = (scaled_budget_max - scaled_budget_min) / total_budget\n",
    "df_true_data['replacement_cost'] = round((df_true_data['replacement_cost']) * scaling_factor,0)\n",
    "df_true_data['inspection_cost'] = round((df_true_data['inspection_cost']) * scaling_factor,0)\n",
    "\n",
    "# if inspection cost is less than 1, set it to 1\n",
    "df_true_data['inspection_cost'] = df_true_data['inspection_cost'].apply(lambda x: 1 if x < 1 else x)\n",
    "\n",
    "df_true_data = df_true_data.sort_values(by=['replacement_cost'], ascending=False)\n",
    "df_scaled = df_true_data.iloc[:-2] #ignore last two\n",
    "\n",
    "# show 15 rows from the middle of the dataframe\n",
    "#df_scaled = df_true_data.iloc[7:22]\n",
    "\n",
    "# save to csv file\n",
    "df_scaled.to_csv('./all_components_data.csv', index=False)\n",
    "\n",
    "# sum of 15 components replacement cost\n",
    "df_scaled['replacement_cost'].sum()"
   ]
  },
  {
   "cell_type": "code",
   "execution_count": null,
   "metadata": {},
   "outputs": [],
   "source": []
  }
 ],
 "metadata": {
  "kernelspec": {
   "display_name": "Python 3.8.12 ('grasping')",
   "language": "python",
   "name": "python3"
  },
  "language_info": {
   "codemirror_mode": {
    "name": "ipython",
    "version": 3
   },
   "file_extension": ".py",
   "mimetype": "text/x-python",
   "name": "python",
   "nbconvert_exporter": "python",
   "pygments_lexer": "ipython3",
   "version": "3.8.5"
  },
  "orig_nbformat": 4,
  "vscode": {
   "interpreter": {
    "hash": "0ce72e880d5e538443d7aa86c312290fede2d278e5b2cf22084bad5e698e5c8c"
   }
  }
 },
 "nbformat": 4,
 "nbformat_minor": 2
}
